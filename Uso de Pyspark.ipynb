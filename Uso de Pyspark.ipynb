{
  "nbformat": 4,
  "nbformat_minor": 0,
  "metadata": {
    "colab": {
      "provenance": [],
      "mount_file_id": "1Pgbg7igobMTmAuCswzk22Tq5iNanL8wL",
      "authorship_tag": "ABX9TyMjjJCAs4YEUT53TjUfh7or",
      "include_colab_link": true
    },
    "kernelspec": {
      "name": "python3",
      "display_name": "Python 3"
    },
    "language_info": {
      "name": "python"
    }
  },
  "cells": [
    {
      "cell_type": "markdown",
      "metadata": {
        "id": "view-in-github",
        "colab_type": "text"
      },
      "source": [
        "<a href=\"https://colab.research.google.com/github/Cap-307/Capacitaciones/blob/main/Uso%20de%20Pyspark.ipynb\" target=\"_parent\"><img src=\"https://colab.research.google.com/assets/colab-badge.svg\" alt=\"Open In Colab\"/></a>"
      ]
    },
    {
      "cell_type": "markdown",
      "source": [
        "#Cargando Spark - jdk - hadoop"
      ],
      "metadata": {
        "id": "dxoNlDjs8vkG"
      }
    },
    {
      "cell_type": "markdown",
      "source": [
        "Antes de empezar se debe montar Apache Spark, jdk"
      ],
      "metadata": {
        "id": "B5D5cxGd9Rmg"
      }
    },
    {
      "cell_type": "code",
      "source": [
        "!apt-get update\n",
        "!apt-get install openjdk-8-jdk-headless -qq > /dev/null\n",
        "!wget -q http://archive.apache.org/dist/spark/spark-3.3.1/spark-3.3.1-bin-hadoop3.tgz\n",
        "!tar xf spark-3.3.1-bin-hadoop3.tgz\n",
        "!pip install -q findspark\n",
        "!pip install -q pyspark\n",
        "\n",
        "import os\n",
        "os.environ[\"JAVA_HOME\"] = \"/usr/lib/jvm/java-8-openjdk-amd64\"\n",
        "os.environ[\"SPARK_HOME\"] = \"/content/spark-3.3.1-bin-hadoop3\""
      ],
      "metadata": {
        "id": "Y_2OvA-dYcq1",
        "colab": {
          "base_uri": "https://localhost:8080/"
        },
        "outputId": "2c8acbd0-23af-4932-b02c-604b520edcbf"
      },
      "execution_count": null,
      "outputs": [
        {
          "output_type": "stream",
          "name": "stdout",
          "text": [
            "\u001b[2K     \u001b[90m━━━━━━━━━━━━━━━━━━━━━━━━━━━━━━━━━━━━━━━\u001b[0m \u001b[32m281.4/281.4 MB\u001b[0m \u001b[31m4.4 MB/s\u001b[0m eta \u001b[36m0:00:00\u001b[0m\n",
            "\u001b[?25h  Preparing metadata (setup.py) ... \u001b[?25l\u001b[?25hdone\n",
            "\u001b[2K     \u001b[90m━━━━━━━━━━━━━━━━━━━━━━━━━━━━━━━━━━━━━━\u001b[0m \u001b[32m199.7/199.7 KB\u001b[0m \u001b[31m22.8 MB/s\u001b[0m eta \u001b[36m0:00:00\u001b[0m\n",
            "\u001b[?25h  Building wheel for pyspark (setup.py) ... \u001b[?25l\u001b[?25hdone\n"
          ]
        }
      ]
    },
    {
      "cell_type": "code",
      "source": [
        " !ls"
      ],
      "metadata": {
        "colab": {
          "base_uri": "https://localhost:8080/"
        },
        "id": "dJp_EOr3hu60",
        "outputId": "86738075-4626-4405-cf6d-372970dd8949"
      },
      "execution_count": null,
      "outputs": [
        {
          "output_type": "stream",
          "name": "stdout",
          "text": [
            "sample_data  spark-3.3.1-bin-hadoop3  spark-3.3.1-bin-hadoop3.tgz\n"
          ]
        }
      ]
    },
    {
      "cell_type": "markdown",
      "source": [
        "Cargamos el find, para que pueda encontrar el pyspark solo por precaucion"
      ],
      "metadata": {
        "id": "bhxPzTxc9u2E"
      }
    },
    {
      "cell_type": "code",
      "source": [
        "import findspark\n",
        "findspark.init()\n",
        "\n",
        "\n",
        "import pyspark"
      ],
      "metadata": {
        "id": "TZHt4y0Np-7F"
      },
      "execution_count": null,
      "outputs": []
    },
    {
      "cell_type": "code",
      "source": [
        "from pyspark.sql import SparkSession\n",
        "from pyspark.sql.functions import col\n",
        "from pyspark.sql.functions import count\n",
        "from pyspark.sql.functions import current_timestamp"
      ],
      "metadata": {
        "id": "Hdpj0W3OoQg6"
      },
      "execution_count": null,
      "outputs": []
    },
    {
      "cell_type": "code",
      "source": [
        "spark = SparkSession.builder.getOrCreate()"
      ],
      "metadata": {
        "id": "6nwoR5-DpU2B"
      },
      "execution_count": null,
      "outputs": []
    },
    {
      "cell_type": "code",
      "source": [
        "# df = spark.createDataFrame(datos, schema = cabeceras)"
      ],
      "metadata": {
        "id": "4ZaaXqj5pb9e"
      },
      "execution_count": null,
      "outputs": []
    },
    {
      "cell_type": "code",
      "source": [
        "!spark-submit --version"
      ],
      "metadata": {
        "colab": {
          "base_uri": "https://localhost:8080/"
        },
        "id": "pe4_drjM8dDy",
        "outputId": "c5e6729c-8022-491e-f8e5-56f4d1cbc658"
      },
      "execution_count": null,
      "outputs": [
        {
          "output_type": "stream",
          "name": "stdout",
          "text": [
            "Welcome to\n",
            "      ____              __\n",
            "     / __/__  ___ _____/ /__\n",
            "    _\\ \\/ _ \\/ _ `/ __/  '_/\n",
            "   /___/ .__/\\_,_/_/ /_/\\_\\   version 3.3.1\n",
            "      /_/\n",
            "                        \n",
            "Using Scala version 2.12.15, OpenJDK 64-Bit Server VM, 1.8.0_352\n",
            "Branch HEAD\n",
            "Compiled by user yumwang on 2022-10-15T09:47:01Z\n",
            "Revision fbbcf9434ac070dd4ced4fb9efe32899c6db12a9\n",
            "Url https://github.com/apache/spark\n",
            "Type --help for more information.\n"
          ]
        }
      ]
    },
    {
      "cell_type": "code",
      "source": [
        "df= spark.read.csv('/content/drive/Othercomputers/PC-307 - Compartido/Pyspark autodidacta-Collab/archivos/*.csv', header=True, inferSchema=True)"
      ],
      "metadata": {
        "id": "-vc5Dl1e9KLU"
      },
      "execution_count": null,
      "outputs": []
    },
    {
      "cell_type": "code",
      "source": [
        "dfy =spark.read.csv('/content/drive/Othercomputers/PC-307 - Compartido/Pyspark autodidacta-Collab/Archivo1.txt')"
      ],
      "metadata": {
        "id": "9MD9BZJ2DXT7"
      },
      "execution_count": null,
      "outputs": []
    },
    {
      "cell_type": "code",
      "source": [
        "cat '/content/drive/Othercomputers/PC-307 - Compartido/Pyspark autodidacta-Collab/Archivo1.txt'"
      ],
      "metadata": {
        "colab": {
          "base_uri": "https://localhost:8080/"
        },
        "id": "6EhX368zEXVh",
        "outputId": "54038bef-e51c-4ab9-f851-f53a2802239b"
      },
      "execution_count": null,
      "outputs": [
        {
          "output_type": "stream",
          "name": "stdout",
          "text": [
            "Azar|BE|8|Big Data|944486862|Rames|BTech|3|Java|944486863|Partibian|Me|6|dotNot|944486864|Magesh|MCA|8|DBA|944486865"
          ]
        }
      ]
    },
    {
      "cell_type": "code",
      "source": [
        "#Lectura de archivo con lineas de error\n",
        "#df_e = spark.read.option(header=False).csv(\"/content/drive/Othercomputers/PC-307 - Compartido/Pyspark autodidacta-Collab/Errores.txt\")\n",
        "df_e = spark.read.format(\"csv\") \\\n",
        "              .option(\"header\",\"True\")\\\n",
        "              .option(\"mode\",\"DROPMALFORMED\")\\\n",
        "              .load(\"/content/drive/Othercomputers/PC-307 - Compartido/Pyspark autodidacta-Collab/Errores.txt\") \n",
        "df_e.show(truncate=False)"
      ],
      "metadata": {
        "colab": {
          "base_uri": "https://localhost:8080/"
        },
        "id": "8qvbPe5zm7jS",
        "outputId": "e0896fb6-d98f-47a0-c267-d2589edc2967"
      },
      "execution_count": null,
      "outputs": [
        {
          "output_type": "stream",
          "name": "stdout",
          "text": [
            "+------+--------+----------+\n",
            "|Emp_no|Emp_name|Department|\n",
            "+------+--------+----------+\n",
            "|101   |BCP     |DWH       |\n",
            "|103   |BBVA    |Sistemas  |\n",
            "+------+--------+----------+\n",
            "\n"
          ]
        }
      ]
    },
    {
      "cell_type": "code",
      "source": [
        "df_1 = spark.read.format(\"csv\").option(\"delimiter\",\"~|\").\\\n",
        "    option(\"header\",\"True\").load(\"/content/drive/Othercomputers/PC-307 - Compartido/Pyspark autodidacta-Collab/Separador.csv\") \n",
        "df_1.show(truncate=False)"
      ],
      "metadata": {
        "colab": {
          "base_uri": "https://localhost:8080/"
        },
        "id": "4RvpmRMnurYU",
        "outputId": "45888ec9-7f25-44c5-b6b4-d343835a33d5"
      },
      "execution_count": null,
      "outputs": [
        {
          "output_type": "stream",
          "name": "stdout",
          "text": [
            "+---------------+----+\n",
            "|Nombre         |Edad|\n",
            "+---------------+----+\n",
            "|Lenin, Aguirre |33  |\n",
            "|Vianka, Navarro|10  |\n",
            "+---------------+----+\n",
            "\n"
          ]
        }
      ]
    },
    {
      "cell_type": "code",
      "source": [
        "cat  \"/content/drive/Othercomputers/PC-307 - Compartido/Pyspark autodidacta-Collab/Separador.csv\""
      ],
      "metadata": {
        "colab": {
          "base_uri": "https://localhost:8080/"
        },
        "id": "WvKIA_M7vV0q",
        "outputId": "733cd804-a6ee-4115-fe8c-bfefdad99110"
      },
      "execution_count": null,
      "outputs": [
        {
          "output_type": "stream",
          "name": "stdout",
          "text": [
            "Nombre~|Edad\r\n",
            "Lenin, Aguirre~|33\r\n",
            "Vianka, Navarro~|10"
          ]
        }
      ]
    },
    {
      "cell_type": "code",
      "source": [
        "\n",
        "df2=dfy.withColumn('chk',regexp_replace('_c0','(|){5}','$0-'))\n",
        "df2.show(truncate=False)"
      ],
      "metadata": {
        "colab": {
          "base_uri": "https://localhost:8080/"
        },
        "id": "BKbTzIP2EF7v",
        "outputId": "ea067601-a07b-4160-9199-8669ecf07fe9"
      },
      "execution_count": null,
      "outputs": [
        {
          "output_type": "stream",
          "name": "stdout",
          "text": [
            "+--------------------------------------------------------------------------------------------------------------------+-----------------------------------------------------------------------------------------------------------------------------------------------------------------------------------------------------------------------------------------+\n",
            "|_c0                                                                                                                 |chk                                                                                                                                                                                                                                      |\n",
            "+--------------------------------------------------------------------------------------------------------------------+-----------------------------------------------------------------------------------------------------------------------------------------------------------------------------------------------------------------------------------------+\n",
            "|Azar|BE|8|Big Data|944486862|Rames|BTech|3|Java|944486863|Partibian|Me|6|dotNot|944486864|Magesh|MCA|8|DBA|944486865|-A-z-a-r-|-B-E-|-8-|-B-i-g- -D-a-t-a-|-9-4-4-4-8-6-8-6-2-|-R-a-m-e-s-|-B-T-e-c-h-|-3-|-J-a-v-a-|-9-4-4-4-8-6-8-6-3-|-P-a-r-t-i-b-i-a-n-|-M-e-|-6-|-d-o-t-N-o-t-|-9-4-4-4-8-6-8-6-4-|-M-a-g-e-s-h-|-M-C-A-|-8-|-D-B-A-|-9-4-4-4-8-6-8-6-5-|\n",
            "+--------------------------------------------------------------------------------------------------------------------+-----------------------------------------------------------------------------------------------------------------------------------------------------------------------------------------------------------------------------------------+\n",
            "\n"
          ]
        }
      ]
    },
    {
      "cell_type": "code",
      "source": [
        "print(\"Lenin\"$*3)"
      ],
      "metadata": {
        "colab": {
          "base_uri": "https://localhost:8080/",
          "height": 130
        },
        "id": "iwEtZKU6Y3Je",
        "outputId": "bb836415-7f58-4793-d655-b9f95272a90f"
      },
      "execution_count": null,
      "outputs": [
        {
          "output_type": "error",
          "ename": "SyntaxError",
          "evalue": "ignored",
          "traceback": [
            "\u001b[0;36m  File \u001b[0;32m\"<ipython-input-85-8af06bd7d08c>\"\u001b[0;36m, line \u001b[0;32m1\u001b[0m\n\u001b[0;31m    print(\"Lenin\"$*3)\u001b[0m\n\u001b[0m                 ^\u001b[0m\n\u001b[0;31mSyntaxError\u001b[0m\u001b[0;31m:\u001b[0m invalid syntax\n"
          ]
        }
      ]
    },
    {
      "cell_type": "code",
      "source": [
        "df.count()"
      ],
      "metadata": {
        "colab": {
          "base_uri": "https://localhost:8080/"
        },
        "id": "Q0SFvmpI_Vh2",
        "outputId": "f4ad3cc2-7e91-4391-aed8-41eb4c91a966"
      },
      "execution_count": null,
      "outputs": [
        {
          "output_type": "execute_result",
          "data": {
            "text/plain": [
              "20692840"
            ]
          },
          "metadata": {},
          "execution_count": 7
        }
      ]
    },
    {
      "cell_type": "code",
      "source": [
        "from pyspark.sql.functions import regexp_replace\n",
        "df2=df1.withColumn( \"Remplazado\",regexp_replace(\"event_type\",\"view\",'Vista'))\n",
        "df2.show(10)"
      ],
      "metadata": {
        "colab": {
          "base_uri": "https://localhost:8080/"
        },
        "id": "KAdwG4YMV6ZT",
        "outputId": "4984bba0-6c4d-4a21-aacc-e93c1f8b3e4f"
      },
      "execution_count": null,
      "outputs": [
        {
          "output_type": "stream",
          "name": "stdout",
          "text": [
            "+-------------------+----------------+----------+-------------------+-------------+---------+-----+---------+--------------------+----------+----------------+\n",
            "|         event_time|      event_type|product_id|        category_id|category_code|    brand|price|  user_id|        user_session|    Tiempo|      Remplazado|\n",
            "+-------------------+----------------+----------+-------------------+-------------+---------+-----+---------+--------------------+----------+----------------+\n",
            "|2019-12-01 00:00:00|remove_from_cart|   5712790|1487580005268456287|         null|    f.o.x| 6.27|576802932|51d85cb0-897f-48d...|2023-02-09|remove_from_cart|\n",
            "|2019-12-01 00:00:00|            view|   5764655|1487580005411062629|         null|      cnd|29.05|412120092|8adff31e-2051-489...|2023-02-09|           Vista|\n",
            "|2019-12-01 00:00:02|            cart|      4958|1487580009471148064|         null|   runail| 1.19|494077766|c99a50e8-2fac-4c4...|2023-02-09|            cart|\n",
            "|2019-12-01 00:00:05|            view|   5848413|1487580007675986893|         null|freedecor| 0.79|348405118|722ffea5-73c0-492...|2023-02-09|           Vista|\n",
            "|2019-12-01 00:00:07|            view|   5824148|1487580005511725929|         null|     null| 5.56|576005683|28172809-7e4a-45c...|2023-02-09|           Vista|\n",
            "|2019-12-01 00:00:09|            view|   5773361|1487580005134238553|         null|   runail| 2.62|560109803|38cf4ba1-4a0a-4c9...|2023-02-09|           Vista|\n",
            "|2019-12-01 00:00:18|            cart|   5629988|1487580009311764506|         null|     null| 1.19|579966747|1512be50-d0fd-4a9...|2023-02-09|            cart|\n",
            "|2019-12-01 00:00:22|            view|   5807805|1487580005713052531|         null| ingarden| 4.44|576005683|28172809-7e4a-45c...|2023-02-09|           Vista|\n",
            "|2019-12-01 00:00:27|            view|   5588608|1487580008145748965|         null| roubloff|  5.4|546170008|676d9fcc-2a4f-444...|2023-02-09|           Vista|\n",
            "|2019-12-01 00:00:34|            cart|      5335|1487580009605365797|         null|   runail|  0.4|494077766|c99a50e8-2fac-4c4...|2023-02-09|            cart|\n",
            "+-------------------+----------------+----------+-------------------+-------------+---------+-----+---------+--------------------+----------+----------------+\n",
            "only showing top 10 rows\n",
            "\n"
          ]
        }
      ]
    },
    {
      "cell_type": "code",
      "source": [
        "df.show()"
      ],
      "metadata": {
        "id": "9B_Revu47omq"
      },
      "execution_count": null,
      "outputs": []
    },
    {
      "cell_type": "code",
      "source": [
        "df.printSchema()"
      ],
      "metadata": {
        "colab": {
          "base_uri": "https://localhost:8080/"
        },
        "id": "F1RF56h3RhYc",
        "outputId": "61a0397a-28df-4739-85f3-2060ca15164d"
      },
      "execution_count": null,
      "outputs": [
        {
          "output_type": "stream",
          "name": "stdout",
          "text": [
            "root\n",
            " |-- event_time: timestamp (nullable = true)\n",
            " |-- event_type: string (nullable = true)\n",
            " |-- product_id: integer (nullable = true)\n",
            " |-- category_id: long (nullable = true)\n",
            " |-- category_code: string (nullable = true)\n",
            " |-- brand: string (nullable = true)\n",
            " |-- price: double (nullable = true)\n",
            " |-- user_id: integer (nullable = true)\n",
            " |-- user_session: string (nullable = true)\n",
            "\n"
          ]
        }
      ]
    },
    {
      "cell_type": "code",
      "source": [
        "from pyspark.sql.functions import date_add\n",
        "df1.select(\"event_time\",date_add(col(\"event_time\"),1)).show()"
      ],
      "metadata": {
        "colab": {
          "base_uri": "https://localhost:8080/"
        },
        "id": "i35T5P_Lq1j_",
        "outputId": "0839f22e-1150-46f2-9296-0efc31275ec6"
      },
      "execution_count": null,
      "outputs": [
        {
          "output_type": "stream",
          "name": "stdout",
          "text": [
            "+-------------------+-----------------------+\n",
            "|         event_time|date_add(event_time, 1)|\n",
            "+-------------------+-----------------------+\n",
            "|2019-12-01 00:00:00|             2019-12-02|\n",
            "|2019-12-01 00:00:00|             2019-12-02|\n",
            "|2019-12-01 00:00:02|             2019-12-02|\n",
            "|2019-12-01 00:00:05|             2019-12-02|\n",
            "|2019-12-01 00:00:07|             2019-12-02|\n",
            "|2019-12-01 00:00:09|             2019-12-02|\n",
            "|2019-12-01 00:00:18|             2019-12-02|\n",
            "|2019-12-01 00:00:22|             2019-12-02|\n",
            "|2019-12-01 00:00:27|             2019-12-02|\n",
            "|2019-12-01 00:00:34|             2019-12-02|\n",
            "|2019-12-01 00:00:40|             2019-12-02|\n",
            "|2019-12-01 00:00:44|             2019-12-02|\n",
            "|2019-12-01 00:00:45|             2019-12-02|\n",
            "|2019-12-01 00:00:46|             2019-12-02|\n",
            "|2019-12-01 00:00:46|             2019-12-02|\n",
            "|2019-12-01 00:00:46|             2019-12-02|\n",
            "|2019-12-01 00:00:49|             2019-12-02|\n",
            "|2019-12-01 00:00:50|             2019-12-02|\n",
            "|2019-12-01 00:00:52|             2019-12-02|\n",
            "|2019-12-01 00:00:58|             2019-12-02|\n",
            "+-------------------+-----------------------+\n",
            "only showing top 20 rows\n",
            "\n"
          ]
        }
      ]
    },
    {
      "cell_type": "code",
      "source": [
        "from pyspark.sql.functions import date_format\n",
        "\n",
        "df2 = spark.createDataFrame([('2023-02-08',)],['a'])\n",
        "df3= df2.select(date_format('a','dd/MM/yyyy'))\n",
        " "
      ],
      "metadata": {
        "colab": {
          "base_uri": "https://localhost:8080/"
        },
        "id": "Q9qlw7ppFn4z",
        "outputId": "15370327-dafb-4656-d091-0c1f425a8dbf"
      },
      "execution_count": null,
      "outputs": [
        {
          "output_type": "stream",
          "name": "stdout",
          "text": [
            "root\n",
            " |-- date_format(a, dd/MM/yyyy): string (nullable = true)\n",
            "\n"
          ]
        }
      ]
    },
    {
      "cell_type": "code",
      "source": [
        "df1 =( df\n",
        "        .where(col(\"event_type\")==\"view\")\n",
        "        .count() )\n",
        "\n",
        "print(df1)"
      ],
      "metadata": {
        "colab": {
          "base_uri": "https://localhost:8080/"
        },
        "id": "KYiQHWo6aLr4",
        "outputId": "0d516c4c-a1ed-4448-aca7-78fbcd72c98c"
      },
      "execution_count": null,
      "outputs": [
        {
          "output_type": "stream",
          "name": "stdout",
          "text": [
            "9657821\n"
          ]
        }
      ]
    },
    {
      "cell_type": "code",
      "source": [
        "df1 = ( df\n",
        "        .where(col(\"event_type\")==\"view\")\n",
        ")"
      ],
      "metadata": {
        "id": "TNlcaDYYifoq"
      },
      "execution_count": null,
      "outputs": []
    },
    {
      "cell_type": "code",
      "source": [
        "df1.write.mode(\"overwrite\").csv(\"/content/sample_data/archivo1\")"
      ],
      "metadata": {
        "id": "WZDQzoveghFY"
      },
      "execution_count": null,
      "outputs": []
    },
    {
      "cell_type": "code",
      "source": [
        "df1 = df.select(\"event_type\").distinct()\n",
        "df1.show()"
      ],
      "metadata": {
        "colab": {
          "base_uri": "https://localhost:8080/"
        },
        "id": "CX4LZrToWhdX",
        "outputId": "04b7bf87-ce84-4799-ef8b-d586dd2deb0a"
      },
      "execution_count": null,
      "outputs": [
        {
          "output_type": "stream",
          "name": "stdout",
          "text": [
            "+----------------+\n",
            "|      event_type|\n",
            "+----------------+\n",
            "|        purchase|\n",
            "|            view|\n",
            "|            cart|\n",
            "|remove_from_cart|\n",
            "+----------------+\n",
            "\n"
          ]
        }
      ]
    },
    {
      "cell_type": "code",
      "source": [
        "df1 = df.groupBy(\"event_type\").agg(count(\"*\").alias(\"Cuenta\"))\n",
        "df1.show()"
      ],
      "metadata": {
        "colab": {
          "base_uri": "https://localhost:8080/"
        },
        "id": "vwEnmvQ9V_eW",
        "outputId": "241b0e3c-cdae-4bd6-9c2a-38f54465826e"
      },
      "execution_count": null,
      "outputs": [
        {
          "output_type": "stream",
          "name": "stdout",
          "text": [
            "+----------------+-------+\n",
            "|      event_type| Cuenta|\n",
            "+----------------+-------+\n",
            "|        purchase|1287007|\n",
            "|            view|9657821|\n",
            "|            cart|5768333|\n",
            "|remove_from_cart|3979679|\n",
            "+----------------+-------+\n",
            "\n"
          ]
        }
      ]
    },
    {
      "cell_type": "code",
      "source": [
        "df.withColumn(\"Nueva Columna\",col(\"event_type\")).filter(col(\"event_type\")==\"view\").show()\n",
        " "
      ],
      "metadata": {
        "id": "6TMlRVl5nBcR"
      },
      "execution_count": null,
      "outputs": []
    },
    {
      "cell_type": "code",
      "source": [
        "df1 = df.agg({\"event_type\":\"Count\"}).alias(\"Prueba\")\n",
        "df1.show()"
      ],
      "metadata": {
        "colab": {
          "base_uri": "https://localhost:8080/"
        },
        "id": "RRpgUkak72II",
        "outputId": "d5d3ea90-1bf5-4c62-cfed-d9225fab8571"
      },
      "execution_count": null,
      "outputs": [
        {
          "output_type": "stream",
          "name": "stdout",
          "text": [
            "+-----------------+\n",
            "|count(event_type)|\n",
            "+-----------------+\n",
            "|         20692840|\n",
            "+-----------------+\n",
            "\n"
          ]
        }
      ]
    },
    {
      "cell_type": "code",
      "source": [
        "df1 = df.groupBy(\"event_type\").avg(\"price\")\n",
        "df1.show()"
      ],
      "metadata": {
        "colab": {
          "base_uri": "https://localhost:8080/"
        },
        "id": "_Eyz70l6BhWL",
        "outputId": "a5648a4b-84a2-4013-ece7-eeb4ac6e01fb"
      },
      "execution_count": null,
      "outputs": [
        {
          "output_type": "stream",
          "name": "stdout",
          "text": [
            "+----------------+------------------+\n",
            "|      event_type|        avg(price)|\n",
            "+----------------+------------------+\n",
            "|        purchase| 4.932377889164413|\n",
            "|            view|12.377492389851405|\n",
            "|            cart| 5.182008491881397|\n",
            "|remove_from_cart| 5.233777485570078|\n",
            "+----------------+------------------+\n",
            "\n"
          ]
        }
      ]
    },
    {
      "cell_type": "code",
      "source": [
        "df1 = df.groupBy(\"event_type\").agg({\"price\":\"avg\"})\n",
        "df1.show()"
      ],
      "metadata": {
        "colab": {
          "base_uri": "https://localhost:8080/"
        },
        "id": "TFsw2iEQCF_Z",
        "outputId": "4899710d-727f-4d07-b0f3-de8df6e44e4c"
      },
      "execution_count": null,
      "outputs": [
        {
          "output_type": "stream",
          "name": "stdout",
          "text": [
            "+----------------+------------------+\n",
            "|      event_type|        avg(price)|\n",
            "+----------------+------------------+\n",
            "|        purchase| 4.932377889164413|\n",
            "|            view|12.377492389851405|\n",
            "|            cart| 5.182008491881397|\n",
            "|remove_from_cart| 5.233777485570078|\n",
            "+----------------+------------------+\n",
            "\n"
          ]
        }
      ]
    },
    {
      "cell_type": "code",
      "source": [
        "df1 = df.groupBy(col(\"event_type\")).count()\n",
        "df1.show()"
      ],
      "metadata": {
        "colab": {
          "base_uri": "https://localhost:8080/"
        },
        "id": "O_wjbPb6f8F7",
        "outputId": "da0a912c-6e48-4c55-a71c-8606a1509e10"
      },
      "execution_count": null,
      "outputs": [
        {
          "output_type": "stream",
          "name": "stdout",
          "text": [
            "+----------------+-------+\n",
            "|      event_type|  count|\n",
            "+----------------+-------+\n",
            "|        purchase|1287007|\n",
            "|            view|9657821|\n",
            "|            cart|5768333|\n",
            "|remove_from_cart|3979679|\n",
            "+----------------+-------+\n",
            "\n"
          ]
        }
      ]
    },
    {
      "cell_type": "code",
      "source": [
        "!ls"
      ],
      "metadata": {
        "colab": {
          "base_uri": "https://localhost:8080/"
        },
        "id": "vrjUPpVugV0G",
        "outputId": "8702a7c3-0a38-4882-e634-20aa46c6c317"
      },
      "execution_count": null,
      "outputs": [
        {
          "output_type": "stream",
          "name": "stdout",
          "text": [
            "drive  sample_data  spark-3.3.1-bin-hadoop3  spark-3.3.1-bin-hadoop3.tgz\n"
          ]
        }
      ]
    },
    {
      "cell_type": "code",
      "source": [
        "cd sample_data"
      ],
      "metadata": {
        "colab": {
          "base_uri": "https://localhost:8080/"
        },
        "id": "gwWkM0odke2R",
        "outputId": "f73a6228-64c2-4b69-f152-9caea05a6b1a"
      },
      "execution_count": null,
      "outputs": [
        {
          "output_type": "stream",
          "name": "stdout",
          "text": [
            "/content/sample_data\n"
          ]
        }
      ]
    },
    {
      "cell_type": "code",
      "source": [
        "ls"
      ],
      "metadata": {
        "colab": {
          "base_uri": "https://localhost:8080/"
        },
        "id": "8z9rX0ffkiyg",
        "outputId": "a3601442-47e1-42d5-98cd-6347553ddd51"
      },
      "execution_count": null,
      "outputs": [
        {
          "output_type": "stream",
          "name": "stdout",
          "text": [
            "\u001b[0m\u001b[01;32manscombe.json\u001b[0m*  california_housing_test.csv   mnist_test.csv         \u001b[01;32mREADME.md\u001b[0m*\n",
            "\u001b[01;34marchivo1\u001b[0m/       california_housing_train.csv  mnist_train_small.csv\n"
          ]
        }
      ]
    },
    {
      "cell_type": "code",
      "source": [
        "cd archivo1"
      ],
      "metadata": {
        "colab": {
          "base_uri": "https://localhost:8080/"
        },
        "id": "n_JrdUDLkkDM",
        "outputId": "122f7431-0c13-4d53-876c-1544b27338b8"
      },
      "execution_count": null,
      "outputs": [
        {
          "output_type": "stream",
          "name": "stdout",
          "text": [
            "/content/sample_data/archivo1\n"
          ]
        }
      ]
    },
    {
      "cell_type": "code",
      "source": [
        "ls\n"
      ],
      "metadata": {
        "id": "okdbLk3LknH3"
      },
      "execution_count": null,
      "outputs": []
    },
    {
      "cell_type": "code",
      "source": [
        "df1 = df.groupBy(\"event_type\").count()\n",
        "df1.show()"
      ],
      "metadata": {
        "colab": {
          "base_uri": "https://localhost:8080/"
        },
        "id": "rSSyNNj7BykR",
        "outputId": "f3e31592-2650-48ed-8be2-db690e6ae95c"
      },
      "execution_count": null,
      "outputs": [
        {
          "output_type": "stream",
          "name": "stdout",
          "text": [
            "+----------------+-------+\n",
            "|      event_type|  count|\n",
            "+----------------+-------+\n",
            "|        purchase|1287007|\n",
            "|            view|9657821|\n",
            "|            cart|5768333|\n",
            "|remove_from_cart|3979679|\n",
            "+----------------+-------+\n",
            "\n"
          ]
        }
      ]
    },
    {
      "cell_type": "code",
      "source": [
        "df1 = df.groupBy(\"event_type\").agg({\"event_type\":\"count\"})\n",
        "df1.show()"
      ],
      "metadata": {
        "colab": {
          "base_uri": "https://localhost:8080/"
        },
        "id": "0y78Jdum7nVM",
        "outputId": "4f7065f9-e5b1-4c7a-b679-81a0ff1a2fea"
      },
      "execution_count": null,
      "outputs": [
        {
          "output_type": "stream",
          "name": "stdout",
          "text": [
            "+----------------+-----------------+\n",
            "|      event_type|count(event_type)|\n",
            "+----------------+-----------------+\n",
            "|        purchase|          1287007|\n",
            "|            view|          9657821|\n",
            "|            cart|          5768333|\n",
            "|remove_from_cart|          3979679|\n",
            "+----------------+-----------------+\n",
            "\n"
          ]
        }
      ]
    },
    {
      "cell_type": "code",
      "source": [
        "df1 = df.groupBy(\"event_type\").agg(count(\"*\").alias(\"Cuenta\"))\n",
        "df1.show()"
      ],
      "metadata": {
        "colab": {
          "base_uri": "https://localhost:8080/"
        },
        "id": "Z4uYBn4w9DMj",
        "outputId": "1173976e-630a-4f33-9560-6eea9685cbb1"
      },
      "execution_count": null,
      "outputs": [
        {
          "output_type": "stream",
          "name": "stdout",
          "text": [
            "+----------------+-------+\n",
            "|      event_type| Cuenta|\n",
            "+----------------+-------+\n",
            "|        purchase|1287007|\n",
            "|            view|9657821|\n",
            "|            cart|5768333|\n",
            "|remove_from_cart|3979679|\n",
            "+----------------+-------+\n",
            "\n"
          ]
        }
      ]
    },
    {
      "cell_type": "code",
      "source": [
        "df1 = df.groupBy(\"event_type\").agg({\"event_type\":\"count\"}).alias(\"Cuenta\").orderBy(\"event_type\", ascending=True)\n",
        "df1.show()"
      ],
      "metadata": {
        "colab": {
          "base_uri": "https://localhost:8080/"
        },
        "id": "Gs53q4sQ9tjX",
        "outputId": "cdd602bf-71df-4204-8cae-0901bac2dd54"
      },
      "execution_count": null,
      "outputs": [
        {
          "output_type": "stream",
          "name": "stdout",
          "text": [
            "+----------------+-----------------+\n",
            "|      event_type|count(event_type)|\n",
            "+----------------+-----------------+\n",
            "|            cart|          5768333|\n",
            "|        purchase|          1287007|\n",
            "|remove_from_cart|          3979679|\n",
            "|            view|          9657821|\n",
            "+----------------+-----------------+\n",
            "\n"
          ]
        }
      ]
    },
    {
      "cell_type": "code",
      "source": [
        "df1 = df.agg({\"price\":\"avg\"})\n",
        "df1.show()"
      ],
      "metadata": {
        "colab": {
          "base_uri": "https://localhost:8080/"
        },
        "id": "ELNTnkGHZ7ZT",
        "outputId": "6aa169ae-4a81-42da-ee39-a304352a50dd"
      },
      "execution_count": null,
      "outputs": [
        {
          "output_type": "stream",
          "name": "stdout",
          "text": [
            "+----------------+\n",
            "|      avg(price)|\n",
            "+----------------+\n",
            "|8.53473548048573|\n",
            "+----------------+\n",
            "\n"
          ]
        }
      ]
    },
    {
      "cell_type": "code",
      "source": [
        "df1 = df.filter(col(\"Event_type\")==\"view\")\n",
        "df1.show()"
      ],
      "metadata": {
        "colab": {
          "base_uri": "https://localhost:8080/"
        },
        "id": "WszqwfbfgkIa",
        "outputId": "4febb431-b779-48d9-d383-c38fc51d9414"
      },
      "execution_count": null,
      "outputs": [
        {
          "output_type": "stream",
          "name": "stdout",
          "text": [
            "+-------------------+----------+----------+-------------------+--------------------+---------+-----+---------+--------------------+\n",
            "|         event_time|event_type|product_id|        category_id|       category_code|    brand|price|  user_id|        user_session|\n",
            "+-------------------+----------+----------+-------------------+--------------------+---------+-----+---------+--------------------+\n",
            "|2019-12-01 00:00:00|      view|   5764655|1487580005411062629|                null|      cnd|29.05|412120092|8adff31e-2051-489...|\n",
            "|2019-12-01 00:00:05|      view|   5848413|1487580007675986893|                null|freedecor| 0.79|348405118|722ffea5-73c0-492...|\n",
            "|2019-12-01 00:00:07|      view|   5824148|1487580005511725929|                null|     null| 5.56|576005683|28172809-7e4a-45c...|\n",
            "|2019-12-01 00:00:09|      view|   5773361|1487580005134238553|                null|   runail| 2.62|560109803|38cf4ba1-4a0a-4c9...|\n",
            "|2019-12-01 00:00:22|      view|   5807805|1487580005713052531|                null| ingarden| 4.44|576005683|28172809-7e4a-45c...|\n",
            "|2019-12-01 00:00:27|      view|   5588608|1487580008145748965|                null| roubloff|  5.4|546170008|676d9fcc-2a4f-444...|\n",
            "|2019-12-01 00:00:46|      view|   5798929|1783999068909863670|                null|   zinger| 6.19|579966747|1512be50-d0fd-4a9...|\n",
            "|2019-12-01 00:00:50|      view|      3936|1487580005343953762|                null|   entity|10.95|579969717|006dd2fb-ae1e-446...|\n",
            "|2019-12-01 00:00:58|      view|   5817779|1487580010872045658|                null|    irisk| 0.79|576802932|f7257a5b-5449-413...|\n",
            "|2019-12-01 00:01:01|      view|   5832416|1487580009471148064|                null|     null| 0.95|576802932|01dbbcc3-b26b-4be...|\n",
            "|2019-12-01 00:01:02|      view|   5706778|1487580005268456287|                null|  beautix|14.13|564257889|a4248817-8d0d-4da...|\n",
            "|2019-12-01 00:01:11|      view|   5849033|1487580005092295511|                null|      uno|10.32|562651624|f8783526-2382-454...|\n",
            "|2019-12-01 00:01:16|      view|   5881896|1487580011903844485|                null|     null| 3.63|537197314|1fc5bdf5-a94f-4e5...|\n",
            "|2019-12-01 00:01:19|      view|   5614842|1487580005411062629|                null|      cnd|13.56|412120092|8adff31e-2051-489...|\n",
            "|2019-12-01 00:01:22|      view|   5847872|1487580006317032337|                null|     null| 7.94|576802932|d3809963-53ce-47f...|\n",
            "|2019-12-01 00:01:47|      view|   5732026|1487580011970953351|furniture.bathroo...|    domix| 4.16|509445281|91e9d610-759a-483...|\n",
            "|2019-12-01 00:01:50|      view|   5795703|1487580005268456287|                null|     null|10.95|556579890|1d94a188-7fa5-4c5...|\n",
            "|2019-12-01 00:01:51|      view|   5859489|1487580005671109489|                null|   masura| 1.73|521863546|50040a3b-8a81-483...|\n",
            "|2019-12-01 00:01:58|      view|   5810157|1487580009445982239|                null|    irisk| 1.43|494077766|c99a50e8-2fac-4c4...|\n",
            "|2019-12-01 00:02:16|      view|   5899850|2115334439910245200|                null|     null| 4.46|538507783|177b9f5a-9ef3-4e1...|\n",
            "+-------------------+----------+----------+-------------------+--------------------+---------+-----+---------+--------------------+\n",
            "only showing top 20 rows\n",
            "\n"
          ]
        }
      ]
    },
    {
      "cell_type": "code",
      "source": [
        "df1 = df.select(col(\"event_type\").alias(\"EVento\"))\n",
        "df1.show()"
      ],
      "metadata": {
        "colab": {
          "base_uri": "https://localhost:8080/"
        },
        "id": "zsmNlVJZfmkF",
        "outputId": "f872565f-9305-4fa5-a24b-31db45d20e04"
      },
      "execution_count": null,
      "outputs": [
        {
          "output_type": "stream",
          "name": "stdout",
          "text": [
            "+----------------+\n",
            "|          EVento|\n",
            "+----------------+\n",
            "|remove_from_cart|\n",
            "|            view|\n",
            "|            cart|\n",
            "|            view|\n",
            "|            view|\n",
            "|            view|\n",
            "|            cart|\n",
            "|            view|\n",
            "|            view|\n",
            "|            cart|\n",
            "|            cart|\n",
            "|remove_from_cart|\n",
            "|            cart|\n",
            "|remove_from_cart|\n",
            "|            view|\n",
            "|            cart|\n",
            "|remove_from_cart|\n",
            "|            view|\n",
            "|            cart|\n",
            "|            cart|\n",
            "+----------------+\n",
            "only showing top 20 rows\n",
            "\n"
          ]
        }
      ]
    },
    {
      "cell_type": "code",
      "source": [
        "df1 = df.groupBy(df.event_type.alias(\"EVento\")).agg(count(\"*\").alias(\"Cuenta\"))\n",
        "df1.show()"
      ],
      "metadata": {
        "colab": {
          "base_uri": "https://localhost:8080/"
        },
        "id": "gNTq1oY4aL9v",
        "outputId": "510a907e-85a9-45de-a804-262bf1db5fd6"
      },
      "execution_count": null,
      "outputs": [
        {
          "output_type": "stream",
          "name": "stdout",
          "text": [
            "+----------------+-------+\n",
            "|          EVento| Cuenta|\n",
            "+----------------+-------+\n",
            "|        purchase|1287007|\n",
            "|            view|9657821|\n",
            "|            cart|5768333|\n",
            "|remove_from_cart|3979679|\n",
            "+----------------+-------+\n",
            "\n"
          ]
        }
      ]
    },
    {
      "cell_type": "code",
      "source": [
        "df.createOrReplaceTempView(\"Tablita\")\n",
        "spark.sql(\"select * from Tablita\").show(truncate=False,n=7)"
      ],
      "metadata": {
        "colab": {
          "base_uri": "https://localhost:8080/"
        },
        "id": "o0v_ycxCVv7W",
        "outputId": "8e84a7e1-b4d6-4602-cb61-772a0b4840cb"
      },
      "execution_count": null,
      "outputs": [
        {
          "output_type": "stream",
          "name": "stdout",
          "text": [
            "+-------------------+----------------+----------+-------------------+-------------+---------+-----+---------+------------------------------------+\n",
            "|event_time         |event_type      |product_id|category_id        |category_code|brand    |price|user_id  |user_session                        |\n",
            "+-------------------+----------------+----------+-------------------+-------------+---------+-----+---------+------------------------------------+\n",
            "|2019-12-01 00:00:00|remove_from_cart|5712790   |1487580005268456287|null         |f.o.x    |6.27 |576802932|51d85cb0-897f-48d2-918b-ad63965c12dc|\n",
            "|2019-12-01 00:00:00|view            |5764655   |1487580005411062629|null         |cnd      |29.05|412120092|8adff31e-2051-4894-9758-224bfa8aec18|\n",
            "|2019-12-01 00:00:02|cart            |4958      |1487580009471148064|null         |runail   |1.19 |494077766|c99a50e8-2fac-4c4d-89ec-41c05f114554|\n",
            "|2019-12-01 00:00:05|view            |5848413   |1487580007675986893|null         |freedecor|0.79 |348405118|722ffea5-73c0-4924-8e8f-371ff8031af4|\n",
            "|2019-12-01 00:00:07|view            |5824148   |1487580005511725929|null         |null     |5.56 |576005683|28172809-7e4a-45ce-bab0-5efa90117cd5|\n",
            "|2019-12-01 00:00:09|view            |5773361   |1487580005134238553|null         |runail   |2.62 |560109803|38cf4ba1-4a0a-4c9e-b870-46685d105f95|\n",
            "|2019-12-01 00:00:18|cart            |5629988   |1487580009311764506|null         |null     |1.19 |579966747|1512be50-d0fd-4a92-bcd8-3ea3943f2a3b|\n",
            "+-------------------+----------------+----------+-------------------+-------------+---------+-----+---------+------------------------------------+\n",
            "only showing top 7 rows\n",
            "\n"
          ]
        }
      ]
    },
    {
      "cell_type": "code",
      "source": [
        "df1 = df.groupBy(\"event_type\").agg({\"event_type\":\"count\"}).orderBy(\"event_type\", ascendent=False)\n",
        "df1.show()"
      ],
      "metadata": {
        "colab": {
          "base_uri": "https://localhost:8080/"
        },
        "id": "habJEHi4XDrb",
        "outputId": "f79730aa-5167-4e3b-b320-4228e44c8e8c"
      },
      "execution_count": null,
      "outputs": [
        {
          "output_type": "stream",
          "name": "stdout",
          "text": [
            "+----------------+-----------------+\n",
            "|      event_type|count(event_type)|\n",
            "+----------------+-----------------+\n",
            "|            cart|          5768333|\n",
            "|        purchase|          1287007|\n",
            "|remove_from_cart|          3979679|\n",
            "|            view|          9657821|\n",
            "+----------------+-----------------+\n",
            "\n"
          ]
        }
      ]
    },
    {
      "cell_type": "code",
      "source": [
        "df1 = df.groupBy(col(\"event_type\").alias(\"Evento\")).agg(count(\"*\").alias(\"cuenta\"))\n",
        "df1.show()"
      ],
      "metadata": {
        "colab": {
          "base_uri": "https://localhost:8080/"
        },
        "id": "mcZO07ujOWnz",
        "outputId": "710a555c-f01b-4f4a-db38-45444b98bde6"
      },
      "execution_count": null,
      "outputs": [
        {
          "output_type": "stream",
          "name": "stdout",
          "text": [
            "+----------------+-------+\n",
            "|          Evento| cuenta|\n",
            "+----------------+-------+\n",
            "|        purchase|1287007|\n",
            "|            view|9657821|\n",
            "|            cart|5768333|\n",
            "|remove_from_cart|3979679|\n",
            "+----------------+-------+\n",
            "\n"
          ]
        }
      ]
    },
    {
      "cell_type": "code",
      "source": [
        "df.show(n=7)"
      ],
      "metadata": {
        "colab": {
          "base_uri": "https://localhost:8080/"
        },
        "id": "CAm35sd1YOYE",
        "outputId": "25690baf-8250-4d71-91c3-c6b3add6c2d5"
      },
      "execution_count": null,
      "outputs": [
        {
          "output_type": "stream",
          "name": "stdout",
          "text": [
            "+-------------------+----------------+----------+-------------------+-------------+---------+-----+---------+--------------------+\n",
            "|         event_time|      event_type|product_id|        category_id|category_code|    brand|price|  user_id|        user_session|\n",
            "+-------------------+----------------+----------+-------------------+-------------+---------+-----+---------+--------------------+\n",
            "|2019-12-01 00:00:00|remove_from_cart|   5712790|1487580005268456287|         null|    f.o.x| 6.27|576802932|51d85cb0-897f-48d...|\n",
            "|2019-12-01 00:00:00|            view|   5764655|1487580005411062629|         null|      cnd|29.05|412120092|8adff31e-2051-489...|\n",
            "|2019-12-01 00:00:02|            cart|      4958|1487580009471148064|         null|   runail| 1.19|494077766|c99a50e8-2fac-4c4...|\n",
            "|2019-12-01 00:00:05|            view|   5848413|1487580007675986893|         null|freedecor| 0.79|348405118|722ffea5-73c0-492...|\n",
            "|2019-12-01 00:00:07|            view|   5824148|1487580005511725929|         null|     null| 5.56|576005683|28172809-7e4a-45c...|\n",
            "|2019-12-01 00:00:09|            view|   5773361|1487580005134238553|         null|   runail| 2.62|560109803|38cf4ba1-4a0a-4c9...|\n",
            "|2019-12-01 00:00:18|            cart|   5629988|1487580009311764506|         null|     null| 1.19|579966747|1512be50-d0fd-4a9...|\n",
            "+-------------------+----------------+----------+-------------------+-------------+---------+-----+---------+--------------------+\n",
            "only showing top 7 rows\n",
            "\n"
          ]
        }
      ]
    },
    {
      "cell_type": "code",
      "source": [
        "df.printSchema()"
      ],
      "metadata": {
        "colab": {
          "base_uri": "https://localhost:8080/"
        },
        "id": "mxh3L4Us4bdv",
        "outputId": "4673abc3-63a9-4127-c00c-6cd38eb18984"
      },
      "execution_count": null,
      "outputs": [
        {
          "output_type": "stream",
          "name": "stdout",
          "text": [
            "root\n",
            " |-- event_time: timestamp (nullable = true)\n",
            " |-- event_type: string (nullable = true)\n",
            " |-- product_id: integer (nullable = true)\n",
            " |-- category_id: long (nullable = true)\n",
            " |-- category_code: string (nullable = true)\n",
            " |-- brand: string (nullable = true)\n",
            " |-- price: double (nullable = true)\n",
            " |-- user_id: integer (nullable = true)\n",
            " |-- user_session: string (nullable = true)\n",
            "\n"
          ]
        }
      ]
    },
    {
      "cell_type": "code",
      "source": [
        "df1 = df.select(col(\"event_time\")*1e6)\n",
        "df1.show()"
      ],
      "metadata": {
        "colab": {
          "base_uri": "https://localhost:8080/",
          "height": 415
        },
        "id": "zgupaL99YUmN",
        "outputId": "08c6bac6-a328-4be0-8575-df1c6760fb48"
      },
      "execution_count": null,
      "outputs": [
        {
          "output_type": "error",
          "ename": "AnalysisException",
          "evalue": "ignored",
          "traceback": [
            "\u001b[0;31m---------------------------------------------------------------------------\u001b[0m",
            "\u001b[0;31mAnalysisException\u001b[0m                         Traceback (most recent call last)",
            "\u001b[0;32m<ipython-input-27-9fed353661cd>\u001b[0m in \u001b[0;36m<module>\u001b[0;34m\u001b[0m\n\u001b[0;32m----> 1\u001b[0;31m \u001b[0mdf1\u001b[0m \u001b[0;34m=\u001b[0m \u001b[0mdf\u001b[0m\u001b[0;34m.\u001b[0m\u001b[0mselect\u001b[0m\u001b[0;34m(\u001b[0m\u001b[0mcol\u001b[0m\u001b[0;34m(\u001b[0m\u001b[0;34m\"event_time\"\u001b[0m\u001b[0;34m)\u001b[0m\u001b[0;34m*\u001b[0m\u001b[0;36m1e6\u001b[0m\u001b[0;34m)\u001b[0m\u001b[0;34m\u001b[0m\u001b[0;34m\u001b[0m\u001b[0m\n\u001b[0m\u001b[1;32m      2\u001b[0m \u001b[0mdf1\u001b[0m\u001b[0;34m.\u001b[0m\u001b[0mshow\u001b[0m\u001b[0;34m(\u001b[0m\u001b[0;34m)\u001b[0m\u001b[0;34m\u001b[0m\u001b[0;34m\u001b[0m\u001b[0m\n",
            "\u001b[0;32m/content/spark-3.3.1-bin-hadoop3/python/pyspark/sql/dataframe.py\u001b[0m in \u001b[0;36mselect\u001b[0;34m(self, *cols)\u001b[0m\n\u001b[1;32m   2021\u001b[0m         \u001b[0;34m[\u001b[0m\u001b[0mRow\u001b[0m\u001b[0;34m(\u001b[0m\u001b[0mname\u001b[0m\u001b[0;34m=\u001b[0m\u001b[0;34m'Alice'\u001b[0m\u001b[0;34m,\u001b[0m \u001b[0mage\u001b[0m\u001b[0;34m=\u001b[0m\u001b[0;36m12\u001b[0m\u001b[0;34m)\u001b[0m\u001b[0;34m,\u001b[0m \u001b[0mRow\u001b[0m\u001b[0;34m(\u001b[0m\u001b[0mname\u001b[0m\u001b[0;34m=\u001b[0m\u001b[0;34m'Bob'\u001b[0m\u001b[0;34m,\u001b[0m \u001b[0mage\u001b[0m\u001b[0;34m=\u001b[0m\u001b[0;36m15\u001b[0m\u001b[0;34m)\u001b[0m\u001b[0;34m]\u001b[0m\u001b[0;34m\u001b[0m\u001b[0;34m\u001b[0m\u001b[0m\n\u001b[1;32m   2022\u001b[0m         \"\"\"\n\u001b[0;32m-> 2023\u001b[0;31m         \u001b[0mjdf\u001b[0m \u001b[0;34m=\u001b[0m \u001b[0mself\u001b[0m\u001b[0;34m.\u001b[0m\u001b[0m_jdf\u001b[0m\u001b[0;34m.\u001b[0m\u001b[0mselect\u001b[0m\u001b[0;34m(\u001b[0m\u001b[0mself\u001b[0m\u001b[0;34m.\u001b[0m\u001b[0m_jcols\u001b[0m\u001b[0;34m(\u001b[0m\u001b[0;34m*\u001b[0m\u001b[0mcols\u001b[0m\u001b[0;34m)\u001b[0m\u001b[0;34m)\u001b[0m\u001b[0;34m\u001b[0m\u001b[0;34m\u001b[0m\u001b[0m\n\u001b[0m\u001b[1;32m   2024\u001b[0m         \u001b[0;32mreturn\u001b[0m \u001b[0mDataFrame\u001b[0m\u001b[0;34m(\u001b[0m\u001b[0mjdf\u001b[0m\u001b[0;34m,\u001b[0m \u001b[0mself\u001b[0m\u001b[0;34m.\u001b[0m\u001b[0msparkSession\u001b[0m\u001b[0;34m)\u001b[0m\u001b[0;34m\u001b[0m\u001b[0;34m\u001b[0m\u001b[0m\n\u001b[1;32m   2025\u001b[0m \u001b[0;34m\u001b[0m\u001b[0m\n",
            "\u001b[0;32m/content/spark-3.3.1-bin-hadoop3/python/lib/py4j-0.10.9.5-src.zip/py4j/java_gateway.py\u001b[0m in \u001b[0;36m__call__\u001b[0;34m(self, *args)\u001b[0m\n\u001b[1;32m   1319\u001b[0m \u001b[0;34m\u001b[0m\u001b[0m\n\u001b[1;32m   1320\u001b[0m         \u001b[0manswer\u001b[0m \u001b[0;34m=\u001b[0m \u001b[0mself\u001b[0m\u001b[0;34m.\u001b[0m\u001b[0mgateway_client\u001b[0m\u001b[0;34m.\u001b[0m\u001b[0msend_command\u001b[0m\u001b[0;34m(\u001b[0m\u001b[0mcommand\u001b[0m\u001b[0;34m)\u001b[0m\u001b[0;34m\u001b[0m\u001b[0;34m\u001b[0m\u001b[0m\n\u001b[0;32m-> 1321\u001b[0;31m         return_value = get_return_value(\n\u001b[0m\u001b[1;32m   1322\u001b[0m             answer, self.gateway_client, self.target_id, self.name)\n\u001b[1;32m   1323\u001b[0m \u001b[0;34m\u001b[0m\u001b[0m\n",
            "\u001b[0;32m/content/spark-3.3.1-bin-hadoop3/python/pyspark/sql/utils.py\u001b[0m in \u001b[0;36mdeco\u001b[0;34m(*a, **kw)\u001b[0m\n\u001b[1;32m    194\u001b[0m                 \u001b[0;31m# Hide where the exception came from that shows a non-Pythonic\u001b[0m\u001b[0;34m\u001b[0m\u001b[0;34m\u001b[0m\u001b[0;34m\u001b[0m\u001b[0m\n\u001b[1;32m    195\u001b[0m                 \u001b[0;31m# JVM exception message.\u001b[0m\u001b[0;34m\u001b[0m\u001b[0;34m\u001b[0m\u001b[0;34m\u001b[0m\u001b[0m\n\u001b[0;32m--> 196\u001b[0;31m                 \u001b[0;32mraise\u001b[0m \u001b[0mconverted\u001b[0m \u001b[0;32mfrom\u001b[0m \u001b[0;32mNone\u001b[0m\u001b[0;34m\u001b[0m\u001b[0;34m\u001b[0m\u001b[0m\n\u001b[0m\u001b[1;32m    197\u001b[0m             \u001b[0;32melse\u001b[0m\u001b[0;34m:\u001b[0m\u001b[0;34m\u001b[0m\u001b[0;34m\u001b[0m\u001b[0m\n\u001b[1;32m    198\u001b[0m                 \u001b[0;32mraise\u001b[0m\u001b[0;34m\u001b[0m\u001b[0;34m\u001b[0m\u001b[0m\n",
            "\u001b[0;31mAnalysisException\u001b[0m: cannot resolve '(event_time * 1000000.0D)' due to data type mismatch: differing types in '(event_time * 1000000.0D)' (timestamp and double).;\n'Project [unresolvedalias((event_time#17 * 1000000.0), Some(org.apache.spark.sql.Column$$Lambda$3470/970533818@1182e72b))]\n+- Relation [event_time#17,event_type#18,product_id#19,category_id#20L,category_code#21,brand#22,price#23,user_id#24,user_session#25] csv\n"
          ]
        }
      ]
    },
    {
      "cell_type": "code",
      "source": [
        "df = df.groupBy(\"event_type\").agg(\"\")"
      ],
      "metadata": {
        "id": "BPcW8FNJ8CBs"
      },
      "execution_count": null,
      "outputs": []
    },
    {
      "cell_type": "code",
      "source": [
        "cat part-00000-79a74f67-51fc-463a-9789-6d5b087a54ba-c000.csv"
      ],
      "metadata": {
        "id": "hPjF3KGpkotZ"
      },
      "execution_count": null,
      "outputs": []
    },
    {
      "cell_type": "code",
      "source": [
        "cat part-00001-79a74f67-51fc-463a-9789-6d5b087a54ba-c000.csv"
      ],
      "metadata": {
        "id": "ThKT9DUjkzVL"
      },
      "execution_count": null,
      "outputs": []
    }
  ]
}